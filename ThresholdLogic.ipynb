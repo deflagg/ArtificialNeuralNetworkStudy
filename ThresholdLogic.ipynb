{
 "cells": [
  {
   "cell_type": "markdown",
   "metadata": {},
   "source": [
    "# Building Blocks of the Perceptron\n",
    "Before the perceptron was conceived of, much work has been done in the field of threshold logic.  Threshold logic is based on logic gates, which is based on computational logic, which is based on logic.  To gain a full understanding of how threshold logic works and subsequently perceptrons, let's start by understanding where they came from and what they're built on.  \n",
    "\n",
    "### Logic\n",
    "[Logic](https://en.wikipedia.org/wiki/Logic) is a very big field and it's not in scope of this article, but let's give a definition and an overview.  Logic is the basis of all mathematical reasoning.  The rules of logic give precise meaning to mathematical statements.  There are many different types of logic, but the one we'll be focusing on is boolean/classical-propositional logic.  Boolean and classical-propositional logic are one and the same.  Logic sentences that can be expressed in classical-propositional logic can also be expressed in boolean logic. For this article we will be using the term boolean logic because it's common terminology in the computer science field.  The Wikipedia article, [propositional logic](https://en.wikipedia.org/wiki/Propositional_calculus), is a great read to get an overview of the field.\n",
    "\n",
    "So why do we care about boolean logic?  Computers today use boolean logic to do everything from computing numbers, playing music, running games, and displaying pictures.  Computers are called universal computing machines, which means it can compute anything computable.  For a long time in the past, researches were trying to develop a universal computer.  It has been shown that any computer which is able to simulate boolean logic circuits of any complexity is such a universal computer.  This means if we can get perceptrons to simulate boolean logic, then we can create a universal computer out of them.\n",
    "\n",
    "### Logic Gates\n",
    "A logic gate is anything that performs a logical operation on one or more inputs and produces a single output. A traditional computer uses transistors to create logic gates, a chemical computer uses molecules, and a biocomputer might use DNA.  For this article, this is all you need to know about gates.  It is only brought up because some readers might wonder what the word \"Gate\" means in \"Threshold Logic Gate\".  When you see what a threshold logic gate and perceptron look like, you'll understand why it's there.  After this section, you will most likely not hear or be concerned with gates. Gates are more important in the electronics field.\n",
    "\n",
    "\n",
    "### Threshold Logic Gate\n",
    "\n",
    "<figure style=\"text-align:center;\">\n",
    "  <img src=\"Images/perceptron_structure1.png\" style=\"width:50%\" />\n",
    "  <figcaption>Unit</figcaption>\n",
    "</figure> "
   ]
  }
 ],
 "metadata": {
  "kernelspec": {
   "display_name": "Python 3",
   "language": "python",
   "name": "python3"
  },
  "language_info": {
   "name": ""
  }
 },
 "nbformat": 4,
 "nbformat_minor": 2
}
