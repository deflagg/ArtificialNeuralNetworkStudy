{
 "cells": [
  {
   "cell_type": "markdown",
   "metadata": {},
   "source": [
    "# Notes\n",
    "\n",
    "## Multiple Linear Regression\n",
    "- There are two ways to estimate the parameters (weight vector), numerically or by optimization.  The numerical approach takes too long for datasets greater than 10K rows.  The better approach is to use a optimization techniques\n",
    " - The numerical approach is called Ordinary Least Squares\n",
    " - An optimization technique is called gradient descent."
   ]
  }
 ],
 "metadata": {
  "kernelspec": {
   "display_name": "Python 3",
   "language": "python",
   "name": "python3"
  },
  "language_info": {
   "codemirror_mode": {
    "name": "ipython",
    "version": 3
   },
   "file_extension": ".py",
   "mimetype": "text/x-python",
   "name": "python",
   "nbconvert_exporter": "python",
   "pygments_lexer": "ipython3",
   "version": "3.7.3"
  }
 },
 "nbformat": 4,
 "nbformat_minor": 2
}
