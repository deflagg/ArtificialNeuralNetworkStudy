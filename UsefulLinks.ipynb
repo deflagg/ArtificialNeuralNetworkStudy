{
 "cells": [
  {
   "cell_type": "markdown",
   "metadata": {},
   "source": [
    "## Miscellaneous Bookmarks\n",
    " - [Learning to learn and compositionality with deep recurrent neural networks](https://www.youtube.com/watch?v=x1kf4Zojtb0)\n",
    " - [Elias Issa - 2016 CCN Workshop: Predictive Coding](https://www.youtube.com/watch?v=8oyy5jmz8Ws)\n",
    " - [Keras.js - Neural network demos in browser](https://transcranial.github.io/keras-js/#/)\n",
    " - [HDF5 File Format](https://www.hdfgroup.org/)\n",
    " - [Efficient BackProp](http://yann.lecun.com/exdb/publis/pdf/lecun-98b.pdf)\n",
    " - [Deep Spare Rectifier Neural Networks](https://www.utc.fr/~bordesan/dokuwiki/_media/en/glorot10nipsworkshop.pdf)\n",
    " - [Neural Networks and Deep Learning](http://neuralnetworksanddeeplearning.com/)\n",
    " - [Weight Initialization Techniques in Neural Networks](https://towardsdatascience.com/weight-initialization-techniques-in-neural-networks-26c649eb3b78)\n",
    " - [Random Initialization For Neural Networks : A Thing Of The Past](https://towardsdatascience.com/random-initialization-for-neural-networks-a-thing-of-the-past-bfcdd806bf9e)\n",
    " - [Neural Networks. A Systematic Introduction](https://www.semanticscholar.org/paper/Neural-Networks-A-Systematic-Introduction-Rojas/0ab5e90d14264b7faf406c15615a4f08cc945f27)\n",
    " - [Activation Functions](https://en.wikipedia.org/wiki/Activation_function)\n",
    " - [Rectified Linear Units](https://www.kaggle.com/dansbecker/rectified-linear-units-relu-in-deep-learning)\n",
    " - [Activation Functions in Neural Networks](https://towardsdatascience.com/activation-functions-neural-networks-1cbd9f8d91d6)\n",
    " - [Deep Learning Fundamentals: Concept & Methods of Artificial Networks](https://www.inovex.de/blog/artificial-neural-networks-concepts-methods/)"
   ]
  },
  {
   "cell_type": "markdown",
   "metadata": {},
   "source": [
    "### Todo Read\n",
    "\n",
    "- [CS231n Convolutional Neural Networks for Visual Recognition](http://cs231n.github.io/optimization-2/) \n",
    "- [Backpropagation Step by Step](https://hmkcode.com/ai/backpropagation-step-by-step/)"
   ]
  },
  {
   "cell_type": "markdown",
   "metadata": {},
   "source": [
    "### Datasets\n",
    "\n",
    " - [The 50 Best Free Datasets for Machine Learning](https://gengo.ai/datasets/the-50-best-free-datasets-for-machine-learning/)\n",
    " - [Google's Open Images Dataset (~9M images)](https://storage.googleapis.com/openimages/web/index.html)"
   ]
  },
  {
   "cell_type": "markdown",
   "metadata": {},
   "source": [
    "### Visualization Tools\n",
    " - [D3.js - A comprehensize JavaScript library to generate graphs and charts](https://d3js.org/)"
   ]
  },
  {
   "cell_type": "code",
   "execution_count": null,
   "metadata": {},
   "outputs": [],
   "source": []
  }
 ],
 "metadata": {
  "kernelspec": {
   "display_name": "Python 3",
   "language": "python",
   "name": "python3"
  },
  "language_info": {
   "codemirror_mode": {
    "name": "ipython",
    "version": 3
   },
   "file_extension": ".py",
   "mimetype": "text/x-python",
   "name": "python",
   "nbconvert_exporter": "python",
   "pygments_lexer": "ipython3",
   "version": "3.7.3"
  }
 },
 "nbformat": 4,
 "nbformat_minor": 2
}
