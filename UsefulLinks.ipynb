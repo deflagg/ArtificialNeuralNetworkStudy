{
 "cells": [
  {
   "cell_type": "markdown",
   "metadata": {},
   "source": [
    "Learning to learn and compositionality with deep recurrent neural networks \n",
    "https://www.youtube.com/watch?v=x1kf4Zojtb0\n",
    "    \n",
    "Elias Issa - 2016 CCN Workshop: Predictive Coding\n",
    "https://www.youtube.com/watch?v=8oyy5jmz8Ws\n",
    "\n",
    "Javascript Deep ANN Demo\n",
    "https://transcranial.github.io/keras-js/#/\n",
    "\n",
    "HDF5 File Format\n",
    "https://www.hdfgroup.org/\n",
    "\n",
    "## Datasets\n",
    "\n",
    "List of Datasets\n",
    "https://gengo.ai/datasets/the-50-best-free-datasets-for-machine-learning/\n",
    "\n",
    "Google's Open Images Dataset (~9M)\n",
    "https://storage.googleapis.com/openimages/web/index.html\n",
    "\n",
    "\n",
    "\n"
   ]
  },
  {
   "cell_type": "code",
   "execution_count": null,
   "metadata": {},
   "outputs": [],
   "source": []
  }
 ],
 "metadata": {
  "kernelspec": {
   "display_name": "Python 3",
   "language": "python",
   "name": "python3"
  },
  "language_info": {
   "codemirror_mode": {
    "name": "ipython",
    "version": 3
   },
   "file_extension": ".py",
   "mimetype": "text/x-python",
   "name": "python",
   "nbconvert_exporter": "python",
   "pygments_lexer": "ipython3",
   "version": "3.7.1"
  }
 },
 "nbformat": 4,
 "nbformat_minor": 2
}
