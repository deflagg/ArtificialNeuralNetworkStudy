{
 "cells": [
  {
   "cell_type": "markdown",
   "metadata": {},
   "source": [
    "## Miscellaneous Bookmarks\n",
    " - [Learning to learn and compositionality with deep recurrent neural networks](https://www.youtube.com/watch?v=x1kf4Zojtb0)\n",
    " - [Elias Issa - 2016 CCN Workshop: Predictive Coding](https://www.youtube.com/watch?v=8oyy5jmz8Ws)\n",
    " - [Keras.js - Neural network demos in browser](https://transcranial.github.io/keras-js/#/)\n",
    " - [HDF5 File Format](https://www.hdfgroup.org/)\n",
    " - [Efficient BackProp](http://yann.lecun.com/exdb/publis/pdf/lecun-98b.pdf)\n",
    " - [Deep Spare Rectifier Neural Networks](https://www.utc.fr/~bordesan/dokuwiki/_media/en/glorot10nipsworkshop.pdf)\n",
    " - [Neural Networks and Deep Learning](http://neuralnetworksanddeeplearning.com/)\n",
    " - [Weight Initialization Techniques in Neural Networks](https://towardsdatascience.com/weight-initialization-techniques-in-neural-networks-26c649eb3b78)\n",
    " - [Random Initialization For Neural Networks : A Thing Of The Past](https://towardsdatascience.com/random-initialization-for-neural-networks-a-thing-of-the-past-bfcdd806bf9e)"
   ]
  },
  {
   "cell_type": "markdown",
   "metadata": {},
   "source": [
    "### Datasets\n",
    "\n",
    " - [The 50 Best Free Datasets for Machine Learning](https://gengo.ai/datasets/the-50-best-free-datasets-for-machine-learning/)\n",
    " - [Google's Open Images Dataset (~9M images)](https://storage.googleapis.com/openimages/web/index.html)"
   ]
  },
  {
   "cell_type": "markdown",
   "metadata": {},
   "source": [
    "### Visualization Tools\n",
    " - [D3.js - A comprehensize JavaScript library to generate graphs and charts](https://d3js.org/)"
   ]
  },
  {
   "cell_type": "code",
   "execution_count": null,
   "metadata": {},
   "outputs": [],
   "source": []
  }
 ],
 "metadata": {
  "kernelspec": {
   "display_name": "Python 3",
   "language": "python",
   "name": "python3"
  },
  "language_info": {
   "codemirror_mode": {
    "name": "ipython",
    "version": 3
   },
   "file_extension": ".py",
   "mimetype": "text/x-python",
   "name": "python",
   "nbconvert_exporter": "python",
   "pygments_lexer": "ipython3",
   "version": "3.7.3"
  }
 },
 "nbformat": 4,
 "nbformat_minor": 2
}
