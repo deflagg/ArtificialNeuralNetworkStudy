{
 "cells": [
  {
   "cell_type": "markdown",
   "metadata": {},
   "source": [
    "## Miscellaneous Bookmarks\n",
    " - [Learning to learn and compositionality with deep recurrent neural networks](https://www.youtube.com/watch?v=x1kf4Zojtb0)\n",
    " - [Elias Issa - 2016 CCN Workshop: Predictive Coding](https://www.youtube.com/watch?v=8oyy5jmz8Ws)\n",
    " - [Keras.js - Neural network demos in browser](https://transcranial.github.io/keras-js/#/)\n",
    " - [HDF5 File Format](https://www.hdfgroup.org/)\n",
    " - [Efficient BackProp](http://yann.lecun.com/exdb/publis/pdf/lecun-98b.pdf)\n",
    " - [Deep Spare Rectifier Neural Networks](https://www.utc.fr/~bordesan/dokuwiki/_media/en/glorot10nipsworkshop.pdf)\n",
    " - [Neural Networks and Deep Learning](http://neuralnetworksanddeeplearning.com/)\n",
    " - [Weight Initialization Techniques in Neural Networks](https://towardsdatascience.com/weight-initialization-techniques-in-neural-networks-26c649eb3b78)\n",
    " - [Random Initialization For Neural Networks : A Thing Of The Past](https://towardsdatascience.com/random-initialization-for-neural-networks-a-thing-of-the-past-bfcdd806bf9e)\n",
    " - [Neural Networks. A Systematic Introduction](https://www.semanticscholar.org/paper/Neural-Networks-A-Systematic-Introduction-Rojas/0ab5e90d14264b7faf406c15615a4f08cc945f27)\n",
    " - [Activation Functions](https://en.wikipedia.org/wiki/Activation_function)\n",
    " - [Rectified Linear Units](https://www.kaggle.com/dansbecker/rectified-linear-units-relu-in-deep-learning)\n",
    " - [Activation Functions in Neural Networks](https://towardsdatascience.com/activation-functions-neural-networks-1cbd9f8d91d6)\n",
    " - [Deep Learning Fundamentals: Concept & Methods of Artificial Networks](https://www.inovex.de/blog/artificial-neural-networks-concepts-methods/)\n",
    " - [A Step by Step Backpropagation Example](https://mattmazur.com/2015/03/17/a-step-by-step-backpropagation-example/)\n",
    " - [Loss Functions and Python Implementations](https://ml-cheatsheet.readthedocs.io/en/latest/loss_functions.html)\n",
    " - [Visual Information Theory](http://colah.github.io/posts/2015-09-Visual-Information/)\n",
    " - [Understanding Categorical Cross-Entropy Loss, Binary Cross-Entropy Loss, Softmax Loss, Logistic Loss, Focal Loss and all those confusing names](https://gombru.github.io/2018/05/23/cross_entropy_loss/)\n",
    "\n",
    "[Understanding binary cross-entropy / log loss: a visual explanation](https://towardsdatascience.com/understanding-binary-cross-entropy-log-loss-a-visual-explanation-a3ac6025181a)  \n",
    "Explains the cross-entropy loss function and the reason it is the way it is."
   ]
  },
  {
   "cell_type": "markdown",
   "metadata": {},
   "source": [
    "### Todo Read\n",
    "\n",
    "- [CS231n Convolutional Neural Networks for Visual Recognition](http://cs231n.github.io/optimization-2/) \n",
    "- [Backpropagation Step by Step](https://hmkcode.com/ai/backpropagation-step-by-step/)\n",
    "- [What is One Hot Encoding? Why And When do you have to use it?](https://hackernoon.com/what-is-one-hot-encoding-why-and-when-do-you-have-to-use-it-e3c6186d008f)\n",
    "- [Derivations of Backpropagation](https://medium.com/@pdquant/all-the-backpropagation-derivatives-d5275f727f60)\n",
    "- [Best Explanation of Derivations of Cross Entropy and Softmax](https://eli.thegreenplace.net/2016/the-softmax-function-and-its-derivative/)\n",
    "- [Demystifying Entropy](https://medium.com/activating-robotic-minds/demystifying-entropy-f2c3221e2550)"
   ]
  },
  {
   "cell_type": "markdown",
   "metadata": {},
   "source": [
    "### Datasets\n",
    "\n",
    " - [The 50 Best Free Datasets for Machine Learning](https://gengo.ai/datasets/the-50-best-free-datasets-for-machine-learning/)\n",
    " - [Google's Open Images Dataset (~9M images)](https://storage.googleapis.com/openimages/web/index.html)\n",
    " - [FiveThirtyEight](https://data.fivethirtyeight.com/)\n",
    " - [Data.gov](https://www.data.gov/)\n",
    " - [Google Dataset Search](https://toolbox.google.com/datasetsearch)"
   ]
  },
  {
   "cell_type": "markdown",
   "metadata": {},
   "source": [
    "### Visualization Tools\n",
    " - [D3.js - A comprehensize JavaScript library to generate graphs and charts](https://d3js.org/)"
   ]
  },
  {
   "cell_type": "code",
   "execution_count": null,
   "metadata": {},
   "outputs": [],
   "source": []
  }
 ],
 "metadata": {
  "kernelspec": {
   "display_name": "Python 3",
   "language": "python",
   "name": "python3"
  },
  "language_info": {
   "codemirror_mode": {
    "name": "ipython",
    "version": 3
   },
   "file_extension": ".py",
   "mimetype": "text/x-python",
   "name": "python",
   "nbconvert_exporter": "python",
   "pygments_lexer": "ipython3",
   "version": "3.7.3"
  }
 },
 "nbformat": 4,
 "nbformat_minor": 2
}
