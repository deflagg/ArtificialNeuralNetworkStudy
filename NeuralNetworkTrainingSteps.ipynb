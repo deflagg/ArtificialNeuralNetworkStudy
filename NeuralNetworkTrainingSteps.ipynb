{
 "cells": [
  {
   "cell_type": "markdown",
   "metadata": {},
   "source": [
    "# Neural Network Training Process: Feedforward & Backpropagation Step-By-Step "
   ]
  },
  {
   "cell_type": "markdown",
   "metadata": {},
   "source": [
    "### Notation\n",
    "\n",
    "Let's start by introducing some notation for how we will describe layers, nodes, and weights.\n",
    " - $a\\implies$ Neuron/Activation\n",
    " - $L\\implies$ Layer\n",
    " - $w\\implies$ weight\n",
    " - $jk\\implies$ the weight from node k to node j (right to left)\n",
    "\n",
    "### Neural Network Topology\n",
    "\n",
    "Below is the network topology that we'll be using as a example for the walk-thru.  The top image shows how the notation above, realtive to the computational graph.\n",
    "<figure>\n",
    "  <img src=\"Images/simple_neural_network_3.png\" style=\"width:50%\" />\n",
    "</figure> \n"
   ]
  },
  {
   "cell_type": "markdown",
   "metadata": {},
   "source": [
    "### Feed Forward\n",
    "\n",
    "### Calculate Error\n",
    "\n",
    "### Backpropagation\n",
    "\n",
    "### Update Weights"
   ]
  },
  {
   "cell_type": "code",
   "execution_count": null,
   "metadata": {},
   "outputs": [],
   "source": []
  }
 ],
 "metadata": {
  "kernelspec": {
   "display_name": "Python 3",
   "language": "python",
   "name": "python3"
  },
  "language_info": {
   "codemirror_mode": {
    "name": "ipython",
    "version": 3
   },
   "file_extension": ".py",
   "mimetype": "text/x-python",
   "name": "python",
   "nbconvert_exporter": "python",
   "pygments_lexer": "ipython3",
   "version": "3.7.3"
  }
 },
 "nbformat": 4,
 "nbformat_minor": 2
}
