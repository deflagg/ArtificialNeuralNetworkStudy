{
 "cells": [
  {
   "cell_type": "markdown",
   "metadata": {},
   "source": [
    "# Activation Functions\n",
    "\n",
    "This notebook is used to explore activations functions in detail, describe their advantages and disadvantages, and gain an intuition into when to use each one."
   ]
  },
  {
   "cell_type": "code",
   "execution_count": 2,
   "metadata": {},
   "outputs": [],
   "source": [
    "import numpy as np\n",
    "import matplotlib.pyplot as plt"
   ]
  },
  {
   "cell_type": "code",
   "execution_count": 3,
   "metadata": {},
   "outputs": [],
   "source": [
    "# Set the matplotlib backend\n",
    "%matplotlib inline\n",
    "\n",
    "# Set default plot parameters\n",
    "plt.rcParams['figure.figsize'] = (5.0, 4.0)\n",
    "plt.rcParams['image.interpolation'] = 'nearest'\n",
    "plt.rcParams['image.cmap'] = 'gray'\n",
    "\n",
    "# Ensure we get the same random numbers each time by using a constant seed value. (for debugging purposes only)\n",
    "np.random.seed(1)"
   ]
  },
  {
   "cell_type": "markdown",
   "metadata": {},
   "source": [
    "### Sigmoid"
   ]
  },
  {
   "cell_type": "markdown",
   "metadata": {},
   "source": [
    "A sigmoid function is a special case of the logistic function.  So before we define what a sigmoid function is, let's first see what a logistic function looks like and then define the mathematical definition.  A logistic function or logistic curve is a common \"S\" shape (sigmoid curve), with equation:\n",
    "\n",
    "> $f(x)=\\dfrac{L}{1+e^{-k(x-x_0)}}$\n",
    "\n",
    "where \n",
    " - e = the natural logarithm base (also known as Euler's number).\n",
    " - $x_0$ = the x-value of the sigmoid's midpoint.\n",
    " - L = the curve's maximum value.\n",
    " - k = the logistic growth rate or steepness of the curve.\n",
    "\n",
    "This will make more sense once you look at the code and figure below. The paramters, `L`, `k`, and `x0` can be experimented/changed to see how the graph reacts."
   ]
  },
  {
   "cell_type": "code",
   "execution_count": 5,
   "metadata": {},
   "outputs": [
    {
     "data": {
      "image/png": "[encoded data removed]",
      "text/plain": [
       "<Figure size 360x288 with 1 Axes>"
      ]
     },
     "metadata": {
      "needs_background": "light"
     },
     "output_type": "display_data"
    }
   ],
   "source": [
    "# Function paramters to experiment with\n",
    "L = 1\n",
    "k = 1\n",
    "x0 = 0\n",
    "\n",
    "# Logistic function\n",
    "def logistic(L, k, x, x0):\n",
    "    y = L/(1+np.exp(-k*(x-x0)))\n",
    "    return y\n",
    "\n",
    "# Compute logistic function\n",
    "x = np.arange(-6., 6., 0.2)\n",
    "y = logistic(L, k, x, x0)\n",
    "\n",
    "# Plot the results\n",
    "plt.plot(x,y,color=\"blue\")\n",
    "plt.xlabel('X')\n",
    "plt.ylabel('Y')\n",
    "plt.grid()\n",
    "plt.show()"
   ]
  },
  {
   "cell_type": "markdown",
   "metadata": {},
   "source": [
    "Often, sigmoid function refers to the special case of the logistic function and is a common \"S\" shape (sigmoid curve).  When the paramters of the logistic function are `L=1`, `k=1`, and `x0=0`, then the logistic function is said to be a sigmoid function.  The sigmoid function is defined as follows:\n",
    "> $f(x)=\\dfrac{1}{1+e^{-x}}$\n",
    "\n",
    "Fun Fact: \n",
    "The word sigmoid refers to the Greek letter $\\varsigma$ (sigma).  This greek letter is equivalent to the English letter \"S\", which is why this curve is called a sigmoid curve\n",
    "\n",
    "Below is the sigmoid function in code and plotted in the figure below."
   ]
  },
  {
   "cell_type": "code",
   "execution_count": 2,
   "metadata": {},
   "outputs": [
    {
     "ename": "NameError",
     "evalue": "name 'np' is not defined",
     "output_type": "error",
     "traceback": [
      "\u001b[1;31m---------------------------------------------------------------------------\u001b[0m",
      "\u001b[1;31mNameError\u001b[0m                                 Traceback (most recent call last)",
      "\u001b[1;32m<ipython-input-2-49e530082ce8>\u001b[0m in \u001b[0;36m<module>\u001b[1;34m\u001b[0m\n\u001b[0;32m      5\u001b[0m \u001b[1;33m\u001b[0m\u001b[0m\n\u001b[0;32m      6\u001b[0m \u001b[1;31m# Compute sigmoid function\u001b[0m\u001b[1;33m\u001b[0m\u001b[1;33m\u001b[0m\u001b[1;33m\u001b[0m\u001b[0m\n\u001b[1;32m----> 7\u001b[1;33m \u001b[0mx\u001b[0m \u001b[1;33m=\u001b[0m \u001b[0mnp\u001b[0m\u001b[1;33m.\u001b[0m\u001b[0marange\u001b[0m\u001b[1;33m(\u001b[0m\u001b[1;33m-\u001b[0m\u001b[1;36m6.\u001b[0m\u001b[1;33m,\u001b[0m \u001b[1;36m6.\u001b[0m\u001b[1;33m,\u001b[0m \u001b[1;36m0.2\u001b[0m\u001b[1;33m)\u001b[0m\u001b[1;33m\u001b[0m\u001b[1;33m\u001b[0m\u001b[0m\n\u001b[0m\u001b[0;32m      8\u001b[0m \u001b[0my\u001b[0m \u001b[1;33m=\u001b[0m \u001b[0msigmoid\u001b[0m\u001b[1;33m(\u001b[0m\u001b[0mx\u001b[0m\u001b[1;33m)\u001b[0m\u001b[1;33m\u001b[0m\u001b[1;33m\u001b[0m\u001b[0m\n\u001b[0;32m      9\u001b[0m \u001b[1;33m\u001b[0m\u001b[0m\n",
      "\u001b[1;31mNameError\u001b[0m: name 'np' is not defined"
     ]
    }
   ],
   "source": [
    "# Sigmoid function\n",
    "def sigmoid(x):\n",
    "    y = 1/(1+np.exp(-x))\n",
    "    return y\n",
    "\n",
    "# Compute sigmoid function\n",
    "x = np.arange(-6., 6., 0.2)\n",
    "y = sigmoid(x)\n",
    "\n",
    "# Plot the results\n",
    "plt.plot(x,y)\n",
    "plt.xlabel('X')\n",
    "plt.ylabel('Y')\n",
    "plt.grid()\n",
    "plt.show()"
   ]
  },
  {
   "cell_type": "markdown",
   "metadata": {},
   "source": [
    "Now let's look at this functions characteristics.  We can see that the curve looks like it goes from 0 to 1 on the y-axis.  In fact the curve never touches y=0 or y=1 but it goes to infinity.  It is said that the curve is contrained by a pair of horizontal asymptotes as $x \\rightarrow \\pm \\infty$"
   ]
  },
  {
   "cell_type": "markdown",
   "metadata": {},
   "source": [
    "### Tanh (Hyperbolic Tangent Function)"
   ]
  },
  {
   "cell_type": "markdown",
   "metadata": {},
   "source": [
    "The Tanh is another sigmoidal \"S\" shaped curve and in fact it's just a particular sigmoid function and the relationship is $2 \\sigma (2 \\dot x) - 1$.  Let's see what the function looks like and then define the mathematical definition.\n",
    "\n",
    "> $tanh(x)=\\dfrac{sinh(x)}{cosh(x)}=\\dfrac{e^{x}-e^{-x}}{e^{x}+e^{-x}}=\\dfrac{e^{2x}-1}{e^{2x}+1}$\n",
    "\n",
    "Below is the tanh function in code and plotted in the figure below. (Instead of created a tanh function like the sigmoid function above, the numpy.tanh built in function is used)"
   ]
  },
  {
   "cell_type": "code",
   "execution_count": 7,
   "metadata": {},
   "outputs": [
    {
     "data": {
      "image/png": "[encoded data removed]",
      "text/plain": [
       "<Figure size 360x288 with 1 Axes>"
      ]
     },
     "metadata": {
      "needs_background": "light"
     },
     "output_type": "display_data"
    }
   ],
   "source": [
    "# Compute tanh function\n",
    "x = np.arange(-6., 6., 0.2)\n",
    "y = np.tanh(x)\n",
    "\n",
    "# Plot the results\n",
    "plt.plot(x,y)\n",
    "plt.xlabel('X')\n",
    "plt.ylabel('Y')\n",
    "plt.grid()\n",
    "plt.show()"
   ]
  },
  {
   "cell_type": "markdown",
   "metadata": {},
   "source": [
    "Unlike the sigmoid curve, this curves mid-point is 0 instead of 0.5.  It is also contrained by a pair of horizontal asymptotes as $x \\rightarrow \\pm \\infty$  The tanh function is preferred over the sigmoid function to be used as an activation function.  I'm not quite sure what the details around why this is the case yet, but as soon as I learn it, I'll be sure to update this notebook.  I've read that the answer is in this known [whitepaper](http://yann.lecun.com/exdb/publis/pdf/lecun-98b.pdf)"
   ]
  },
  {
   "cell_type": "markdown",
   "metadata": {},
   "source": [
    "### ReLU (Rectified Linear Units)"
   ]
  },
  {
   "cell_type": "markdown",
   "metadata": {},
   "source": [
    "The ReLU function is the most commonly used activation function in deep learning models.  If you are unsure what activation function to use in your network, ReLU is usually a good first choice The function returns 0 if it receives any negative input, but for any positive value x, it returns that value back. Let's see what the function looks like and then define the mathematical definition.\n",
    "> $f(x)=max(0,x)$\n",
    "\n",
    "Below is the ReLU function in code and plotted in the figure below."
   ]
  },
  {
   "cell_type": "code",
   "execution_count": 1,
   "metadata": {},
   "outputs": [
    {
     "ename": "NameError",
     "evalue": "name 'np' is not defined",
     "output_type": "error",
     "traceback": [
      "\u001b[1;31m---------------------------------------------------------------------------\u001b[0m",
      "\u001b[1;31mNameError\u001b[0m                                 Traceback (most recent call last)",
      "\u001b[1;32m<ipython-input-1-3ee25733d0b5>\u001b[0m in \u001b[0;36m<module>\u001b[1;34m\u001b[0m\n\u001b[0;32m      5\u001b[0m \u001b[1;33m\u001b[0m\u001b[0m\n\u001b[0;32m      6\u001b[0m \u001b[1;31m# Compute tanh function\u001b[0m\u001b[1;33m\u001b[0m\u001b[1;33m\u001b[0m\u001b[1;33m\u001b[0m\u001b[0m\n\u001b[1;32m----> 7\u001b[1;33m \u001b[0mx\u001b[0m \u001b[1;33m=\u001b[0m \u001b[0mnp\u001b[0m\u001b[1;33m.\u001b[0m\u001b[0marange\u001b[0m\u001b[1;33m(\u001b[0m\u001b[1;33m-\u001b[0m\u001b[1;36m6.\u001b[0m\u001b[1;33m,\u001b[0m \u001b[1;36m6.\u001b[0m\u001b[1;33m,\u001b[0m \u001b[1;36m0.2\u001b[0m\u001b[1;33m)\u001b[0m\u001b[1;33m\u001b[0m\u001b[1;33m\u001b[0m\u001b[0m\n\u001b[0m\u001b[0;32m      8\u001b[0m \u001b[0my\u001b[0m \u001b[1;33m=\u001b[0m \u001b[0mrelu\u001b[0m\u001b[1;33m(\u001b[0m\u001b[0mx\u001b[0m\u001b[1;33m)\u001b[0m\u001b[1;33m\u001b[0m\u001b[1;33m\u001b[0m\u001b[0m\n\u001b[0;32m      9\u001b[0m \u001b[1;33m\u001b[0m\u001b[0m\n",
      "\u001b[1;31mNameError\u001b[0m: name 'np' is not defined"
     ]
    }
   ],
   "source": [
    "# ReLU function\n",
    "def relu(x):\n",
    "    y = np.maximum(0, x)\n",
    "    return y\n",
    "\n",
    "# Compute tanh function\n",
    "x = np.arange(-6., 6., 0.2)\n",
    "y = relu(x)\n",
    "\n",
    "# Plot the results\n",
    "plt.plot(x,y)\n",
    "plt.xlabel('X')\n",
    "plt.ylabel('Y')\n",
    "plt.grid()\n",
    "plt.show()"
   ]
  },
  {
   "cell_type": "markdown",
   "metadata": {},
   "source": [
    "The ReLU is a linear (identity) for all positive values, and zero for all negative values."
   ]
  },
  {
   "cell_type": "markdown",
   "metadata": {},
   "source": [
    "#### Advantages"
   ]
  },
  {
   "cell_type": "markdown",
   "metadata": {},
   "source": [
    " - It's cheap to compute as there is no complicated math.  Therefore the model can take less time to train or run.\n",
    " - It converges faster.  The slope doesn't plateau, or \"saturate\", when x gets large. It avoids and rectifies vanishing gradient problem which  the sigmoid or tanh functions have\n",
    " - It's sparsely activated.  Since ReLU is 0 for all negative values, it's likely for any given unit to not activate at all."
   ]
  }
 ],
 "metadata": {
  "kernelspec": {
   "display_name": "Python 3",
   "language": "python",
   "name": "python3"
  },
  "language_info": {
   "codemirror_mode": {
    "name": "ipython",
    "version": 3
   },
   "file_extension": ".py",
   "mimetype": "text/x-python",
   "name": "python",
   "nbconvert_exporter": "python",
   "pygments_lexer": "ipython3",
   "version": "3.7.1"
  }
 },
 "nbformat": 4,
 "nbformat_minor": 2
}
